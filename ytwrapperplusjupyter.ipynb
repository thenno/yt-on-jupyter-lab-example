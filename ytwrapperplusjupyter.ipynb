{
 "cells": [
  {
   "cell_type": "code",
   "execution_count": 1,
   "id": "51bd56c9-90d1-47f6-8d27-f3cab5b915d0",
   "metadata": {},
   "outputs": [],
   "source": [
    "import os\n",
    "\n",
    "from yt import wrapper"
   ]
  },
  {
   "cell_type": "code",
   "execution_count": 2,
   "id": "ac677ee3-4542-4fe1-9258-0d4dfcea4d8c",
   "metadata": {},
   "outputs": [],
   "source": [
    "yt_token = os.environ[\"YT_TOKEN\"]\n",
    "yt_proxy = os.environ[\"YT_PROXY\"]\n",
    "\n",
    "src_table = \"//tmp/chiffa-test-jupyter\""
   ]
  },
  {
   "cell_type": "code",
   "execution_count": 3,
   "id": "6b89fcd0-3d53-4908-96e9-73875e428b55",
   "metadata": {},
   "outputs": [],
   "source": [
    "@wrapper.yt_dataclass\n",
    "class TableRow:\n",
    "    a: str"
   ]
  },
  {
   "cell_type": "code",
   "execution_count": 4,
   "id": "785a87c8-05cf-4061-a21a-4e2b3a0775e5",
   "metadata": {},
   "outputs": [],
   "source": [
    "client = wrapper.YtClient(proxy=yt_proxy, token=yt_token)"
   ]
  },
  {
   "cell_type": "code",
   "execution_count": 5,
   "id": "2b33094a-b8bc-4bb4-8caf-bb72a2fe9ee6",
   "metadata": {},
   "outputs": [],
   "source": [
    "client.write_table_structured(\n",
    "    src_table,\n",
    "    TableRow,\n",
    "    [\n",
    "        TableRow(a=\"one\"),\n",
    "        TableRow(a=\"two\"),\n",
    "    ],\n",
    ")"
   ]
  },
  {
   "cell_type": "code",
   "execution_count": 6,
   "id": "f24ebd35-df4c-4101-9554-129ba00b461b",
   "metadata": {},
   "outputs": [],
   "source": [
    "def compute_emails_mapper(input_row):\n",
    "    output_row = {}\n",
    "\n",
    "    output_row[\"a\"] = input_row[\"a\"]\n",
    "    output_row[\"b\"] = input_row[\"a\"] + \"_sample\"\n",
    "\n",
    "    yield output_row"
   ]
  },
  {
   "cell_type": "code",
   "execution_count": 7,
   "id": "f1c27aed-1168-47dd-9ef8-f72a4dd49f47",
   "metadata": {},
   "outputs": [],
   "source": [
    "dst_table = \"//tmp/chiffa-test-jupyter-dst\""
   ]
  },
  {
   "cell_type": "code",
   "execution_count": null,
   "id": "561818c1-25fa-4851-b670-7d32ab4e0cba",
   "metadata": {},
   "outputs": [],
   "source": [
    "client.run_map(\n",
    "    compute_emails_mapper, source_table=src_table, destination_table=dst_table,\n",
    ")"
   ]
  },
  {
   "cell_type": "code",
   "execution_count": null,
   "id": "056d90a8-19af-4f27-95b1-6b3e45f7682a",
   "metadata": {},
   "outputs": [],
   "source": []
  }
 ],
 "metadata": {
  "kernelspec": {
   "display_name": "Python 3 (ipykernel)",
   "language": "python",
   "name": "python3"
  },
  "language_info": {
   "codemirror_mode": {
    "name": "ipython",
    "version": 3
   },
   "file_extension": ".py",
   "mimetype": "text/x-python",
   "name": "python",
   "nbconvert_exporter": "python",
   "pygments_lexer": "ipython3",
   "version": "3.8.19"
  }
 },
 "nbformat": 4,
 "nbformat_minor": 5
}
